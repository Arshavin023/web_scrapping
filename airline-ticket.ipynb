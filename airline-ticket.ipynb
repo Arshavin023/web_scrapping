{
 "cells": [
  {
   "cell_type": "markdown",
   "id": "c45f158c",
   "metadata": {},
   "source": [
    "## Web-Scraping of Flight Information between 5TH June to 5TH September 2022"
   ]
  },
  {
   "cell_type": "code",
   "execution_count": 1,
   "id": "cc53485f",
   "metadata": {},
   "outputs": [],
   "source": [
    "from time import sleep\n",
    "import pandas as pd\n",
    "from selenium import webdriver\n",
    "from selenium.webdriver.common.keys import Keys\n",
    "from bs4 import BeautifulSoup\n",
    "import re\n",
    "import numpy as np\n",
    "from tqdm import tqdm"
   ]
  },
  {
   "cell_type": "code",
   "execution_count": 2,
   "id": "09ade23f",
   "metadata": {},
   "outputs": [],
   "source": [
    "# path to chromedriver\n",
    "chromedriver_path =  \"/home/uche/Desktop/airline_ticket_prediction/chromedriver\"\n"
   ]
  },
  {
   "cell_type": "code",
   "execution_count": null,
   "id": "0ef4ad63",
   "metadata": {},
   "outputs": [],
   "source": []
  },
  {
   "cell_type": "code",
   "execution_count": 3,
   "id": "bc31f68b",
   "metadata": {},
   "outputs": [
    {
     "name": "stderr",
     "output_type": "stream",
     "text": [
      "/tmp/ipykernel_4288/1365387960.py:2: DeprecationWarning: executable_path has been deprecated, please pass in a Service object\n",
      "  driver = webdriver.Chrome(chromedriver_path)\n"
     ]
    }
   ],
   "source": [
    "# launching the driver\n",
    "driver = webdriver.Chrome(chromedriver_path)"
   ]
  },
  {
   "cell_type": "code",
   "execution_count": null,
   "id": "a3ca1d64",
   "metadata": {},
   "outputs": [],
   "source": []
  },
  {
   "cell_type": "code",
   "execution_count": 4,
   "id": "595903e7",
   "metadata": {},
   "outputs": [
    {
     "name": "stdout",
     "output_type": "stream",
     "text": [
      "Please enter -1 when done.\n",
      "----------\n",
      "From which city?\n",
      "MNL\n",
      "Where to?\n",
      "AHB\n",
      "----------\n",
      "From which city?\n",
      "MNL\n",
      "Where to?\n",
      "DMM\n",
      "----------\n",
      "From which city?\n",
      "MNL\n",
      "Where to?\n",
      "ELQ\n",
      "----------\n",
      "From which city?\n",
      "MNL\n",
      "Where to?\n",
      "JED\n",
      "----------\n",
      "From which city?\n",
      "MNL\n",
      "Where to?\n",
      "RUH\n",
      "----------\n",
      "From which city?\n",
      "MNL\n",
      "Where to?\n",
      "TUU\n",
      "----------\n",
      "From which city?\n",
      "-1\n",
      "\n",
      "Routes:\n",
      "MNL => AHB\n",
      "MNL => DMM\n",
      "MNL => ELQ\n",
      "MNL => JED\n",
      "MNL => RUH\n",
      "MNL => TUU\n"
     ]
    }
   ],
   "source": [
    "# get user input for routes\n",
    "sources = []\n",
    "destinations = []\n",
    "print(\"Please enter -1 when done.\")\n",
    "print(\"-\"*10)\n",
    "while True:\n",
    "    sources.append(input(\"From which city?\\n\"))\n",
    "    if \"-1\" in sources: \n",
    "        sources.pop(-1)\n",
    "        break\n",
    "    destinations.append(input(\"Where to?\\n\"))\n",
    "    if \"-1\" in destinations: \n",
    "        sources.pop(-1)\n",
    "        destinations.pop(-1)\n",
    "        break\n",
    "    print(\"-\"*10)\n",
    "\n",
    "print(\"\\nRoutes:\")\n",
    "for i in range(len(sources)):\n",
    "    print(f\"{sources[i]} => {destinations[i]}\")"
   ]
  },
  {
   "cell_type": "code",
   "execution_count": null,
   "id": "e0792a0c",
   "metadata": {},
   "outputs": [],
   "source": []
  },
  {
   "cell_type": "code",
   "execution_count": 5,
   "id": "8bdc9fab",
   "metadata": {},
   "outputs": [
    {
     "name": "stdout",
     "output_type": "stream",
     "text": [
      "Start Date, Please use YYYY-MM-DD format only 2022-06-05\n",
      "End Date, Please use YYYY-MM-DD format only 2022-09-05\n"
     ]
    }
   ],
   "source": [
    "# get user input for period (start and end date)\n",
    "start_date = np.datetime64(input('Start Date, Please use YYYY-MM-DD format only '))\n",
    "end_date = np.datetime64(input('End Date, Please use YYYY-MM-DD format only '))\n",
    "days = end_date - start_date\n",
    "num_days = days.item().days"
   ]
  },
  {
   "cell_type": "code",
   "execution_count": null,
   "id": "e59a8be7",
   "metadata": {},
   "outputs": [],
   "source": []
  },
  {
   "cell_type": "code",
   "execution_count": 6,
   "id": "fe602386",
   "metadata": {},
   "outputs": [],
   "source": [
    "def get_airlines(soup):\n",
    "    airline = []\n",
    "    airlines = soup.find_all('span',class_='codeshares-airline-names',text=True)\n",
    "    for i in airlines:\n",
    "        airline.append(i.text)\n",
    "    return airline\n",
    "    \n",
    "def get_total_stops(soup):\n",
    "    stops_list = []\n",
    "    stops = soup.find_all('div',class_='section stops')\n",
    "\n",
    "    for i in stops:\n",
    "        for j in i.find_all('span',class_='stops-text'):\n",
    "               stops_list.append(j.text)\n",
    "    return stops_list\n",
    "\n",
    "def get_price(soup):\n",
    "    prices = []\n",
    "    price = soup.find_all('div',class_='Flights-Results-FlightPriceSection right-alignment sleek')\n",
    "\n",
    "    for i in price:\n",
    "        for j in i.find_all('span', class_='price-text'):\n",
    "            prices.append(j.text)\n",
    "    return prices\n",
    "\n",
    "def get_duration(soup):\n",
    "    duration_list = []\n",
    "    duration = soup.find_all('div' , class_='section duration allow-multi-modal-icons')\n",
    "    for i in duration:\n",
    "        for j in i.find_all('div',class_='top'):\n",
    "            duration_list.append(j.text)\n",
    "    return duration_list"
   ]
  },
  {
   "cell_type": "code",
   "execution_count": null,
   "id": "00d9cd45",
   "metadata": {},
   "outputs": [],
   "source": []
  },
  {
   "cell_type": "code",
   "execution_count": null,
   "id": "09427154",
   "metadata": {},
   "outputs": [
    {
     "name": "stderr",
     "output_type": "stream",
     "text": [
      "  0%|                                                    | 0/93 [00:00<?, ?it/s]/tmp/ipykernel_4288/2328784834.py:9: DeprecationWarning: executable_path has been deprecated, please pass in a Service object\n",
      "  driver = webdriver.Chrome(chromedriver_path)#, chrome_options=chromeOptions)\n",
      "/tmp/ipykernel_4288/2328784834.py:17: DeprecationWarning: find_element_by_xpath is deprecated. Please use find_element(by=By.XPATH, value=xpath) instead\n",
      "  show_more_button = driver.find_element_by_xpath('//a[@class = \"moreButton\"]')\n",
      " 16%|██████▎                                | 15/93 [53:27<18:40:30, 861.93s/it]"
     ]
    }
   ],
   "source": [
    "for i in range(len(sources)):\n",
    "    column_names = [\"Airline\", \"Source\", \"Destination\",\"Duration\" ,\"Total stops\", \"Price\",\"Date\"]\n",
    "    df = pd.DataFrame(columns = column_names)\n",
    "    for j in tqdm(range(num_days+1)):\n",
    "        \n",
    "        # close and open driver every 10 days to avoid captcha\n",
    "        if j % 10 == 0:\n",
    "            driver.quit()\n",
    "            driver = webdriver.Chrome(chromedriver_path)#, chrome_options=chromeOptions)\n",
    "            \n",
    "        url = f\"https://www.en.kayak.sa/flights/{sources[i]}-{destinations[i]}/{start_date+j}\"\n",
    "        driver.get(url)\n",
    "        sleep(15)\n",
    "        \n",
    "        # click show more button to get all flights\n",
    "        try:\n",
    "            show_more_button = driver.find_element_by_xpath('//a[@class = \"moreButton\"]')\n",
    "        except:\n",
    "            \n",
    "            # in case a captcha appears, require input from user so that the for loop pauses and the user can continue the\n",
    "            # loop after solving the captcha\n",
    "            input(\"Please solve the captcha then enter anything here to resume scraping.\")\n",
    "            \n",
    "        while True:\n",
    "            try:\n",
    "                show_more_button.click()\n",
    "                driver.implicitly_wait(10)\n",
    "            except:\n",
    "                break\n",
    "    \n",
    "        soup = BeautifulSoup(driver.page_source, 'html.parser')\n",
    "        airlines = get_airlines(soup)\n",
    "        total_stops = get_total_stops(soup)\n",
    "        prices = get_price(soup)\n",
    "        duration = get_duration(soup)\n",
    "        df = df.append(pd.DataFrame({\n",
    "            'Airline': airlines,\n",
    "            'Duration': duration,\n",
    "            'Total stops' : total_stops,\n",
    "            'Price' : prices,\n",
    "            'Date' : start_date+j\n",
    "                                    }))\n",
    "        \n",
    "    df['Source'] = sources[i]\n",
    "    df['Destination'] = destinations[i]\n",
    "    df = df.replace('\\n','', regex=True)\n",
    "    df = df.reset_index(drop = True)\n",
    "    \n",
    "    # save data as csv file for each route\n",
    "    df.to_csv(f'{sources[i]}_{destinations[i]}.csv',index=False)\n",
    "    print(f\"Succesfully saved {sources[i]} => {destinations[i]} route as {sources[i]}_{destinations[i]}.csv \")\n",
    "    \n",
    "driver.quit()"
   ]
  },
  {
   "cell_type": "code",
   "execution_count": null,
   "id": "271473da",
   "metadata": {},
   "outputs": [],
   "source": [
    "# Read in all the csv files\n",
    "\n",
    "import pandas as pd\n",
    "import glob\n",
    "\n",
    "path = r'C:/Users/HP/Desktop/airline_ticket_prediction' # use your path\n",
    "all_files = glob.glob(os.path.join(path , \"/*.csv\"))\n",
    "\n",
    "li = []\n",
    "\n",
    "for filename in all_files:\n",
    "    df = pd.read_csv(filename, index_col=None, header=0)\n",
    "    li.append(df)\n",
    "\n",
    "frame = pd.concat(li, axis=0, ignore_index=True)"
   ]
  },
  {
   "cell_type": "code",
   "execution_count": null,
   "id": "3c6471ef",
   "metadata": {},
   "outputs": [],
   "source": [
    "frame.to_csv('raw.csv')"
   ]
  }
 ],
 "metadata": {
  "kernelspec": {
   "display_name": "Python 3 (ipykernel)",
   "language": "python",
   "name": "python3"
  },
  "language_info": {
   "codemirror_mode": {
    "name": "ipython",
    "version": 3
   },
   "file_extension": ".py",
   "mimetype": "text/x-python",
   "name": "python",
   "nbconvert_exporter": "python",
   "pygments_lexer": "ipython3",
   "version": "3.9.12"
  }
 },
 "nbformat": 4,
 "nbformat_minor": 5
}
