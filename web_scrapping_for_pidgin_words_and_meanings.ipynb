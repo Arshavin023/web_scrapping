{
 "cells": [
  {
   "cell_type": "markdown",
   "id": "83cbc7ac",
   "metadata": {},
   "source": [
    "#### Importing Libraries"
   ]
  },
  {
   "cell_type": "code",
   "execution_count": 36,
   "id": "39e05d5e",
   "metadata": {},
   "outputs": [],
   "source": [
    "import PyPDF2\n",
    "import requests\n",
    "from bs4 import BeautifulSoup\n",
    "import numpy as np\n",
    "import pandas as pd"
   ]
  },
  {
   "cell_type": "markdown",
   "id": "d80d6ab4",
   "metadata": {},
   "source": [
    "#### Aplhabet A"
   ]
  },
  {
   "cell_type": "code",
   "execution_count": 42,
   "id": "473c0337",
   "metadata": {},
   "outputs": [
    {
     "data": {
      "text/html": [
       "<div>\n",
       "<style scoped>\n",
       "    .dataframe tbody tr th:only-of-type {\n",
       "        vertical-align: middle;\n",
       "    }\n",
       "\n",
       "    .dataframe tbody tr th {\n",
       "        vertical-align: top;\n",
       "    }\n",
       "\n",
       "    .dataframe thead th {\n",
       "        text-align: right;\n",
       "    }\n",
       "</style>\n",
       "<table border=\"1\" class=\"dataframe\">\n",
       "  <thead>\n",
       "    <tr style=\"text-align: right;\">\n",
       "      <th></th>\n",
       "      <th>words</th>\n",
       "      <th>meaning</th>\n",
       "    </tr>\n",
       "  </thead>\n",
       "  <tbody>\n",
       "    <tr>\n",
       "      <th>0</th>\n",
       "      <td>Abeg</td>\n",
       "      <td>Please.</td>\n",
       "    </tr>\n",
       "    <tr>\n",
       "      <th>1</th>\n",
       "      <td>Abi?</td>\n",
       "      <td>Is it not?</td>\n",
       "    </tr>\n",
       "    <tr>\n",
       "      <th>2</th>\n",
       "      <td>ABU</td>\n",
       "      <td>Amadu Bello University.</td>\n",
       "    </tr>\n",
       "    <tr>\n",
       "      <th>3</th>\n",
       "      <td>Acada</td>\n",
       "      <td>. Intellectual . University student . Book worm.</td>\n",
       "    </tr>\n",
       "    <tr>\n",
       "      <th>4</th>\n",
       "      <td>Acata</td>\n",
       "      <td>. USA or UK .Someone who lives in those places.</td>\n",
       "    </tr>\n",
       "  </tbody>\n",
       "</table>\n",
       "</div>"
      ],
      "text/plain": [
       "   words                                           meaning\n",
       "0   Abeg                                           Please.\n",
       "1   Abi?                                        Is it not?\n",
       "2    ABU                           Amadu Bello University.\n",
       "3  Acada  . Intellectual . University student . Book worm.\n",
       "4  Acata   . USA or UK .Someone who lives in those places."
      ]
     },
     "execution_count": 42,
     "metadata": {},
     "output_type": "execute_result"
    }
   ],
   "source": [
    "response = requests.get(\"https://www.ngex.com/personalities/babawilly/dictionary/pidgina.html\").text\n",
    "soup = BeautifulSoup(response,'html.parser')\n",
    "for i in soup.find_all('p'):\n",
    "    col = i.text.replace('\\n','').replace(': ','!').replace(':','!')\n",
    "#     col = col.text.replace(': ','!')\n",
    "    empty.append(col)\n",
    "empty = empty[1:-5]\n",
    "for i in range(0,len(empty)):\n",
    "    empty[i] = ''.join([z for z in empty[i] if not z.isdigit()])\n",
    "    empty[i] = empty[i].split('!')\n",
    "cleaned_empty = [i for i in empty if len(i) == 2]\n",
    "letter_a= np.array(cleaned_empty,dtype='object')\n",
    "letter_a = pd.DataFrame(array, columns=['words','meaning'])\n",
    "letter_a.head()"
   ]
  },
  {
   "cell_type": "markdown",
   "id": "6a01f868",
   "metadata": {},
   "source": [
    "#### Alphabet B-Z"
   ]
  },
  {
   "cell_type": "code",
   "execution_count": 47,
   "id": "14222919",
   "metadata": {},
   "outputs": [],
   "source": [
    "def extract_pidgin(url):\n",
    "    empty = []\n",
    "    response = requests.get(url).text\n",
    "    soup = BeautifulSoup(response,'html.parser')\n",
    "    for i in soup.find_all('p'):\n",
    "        col = i.text.replace('\\n','').replace(': ','!').replace(':','!')\n",
    "    #     col = col.text.replace(': ','!')\n",
    "        empty.append(col)\n",
    "    empty = empty[1:-5]\n",
    "    for i in range(0,len(empty)):\n",
    "        empty[i] = ''.join([z for z in empty[i] if not z.isdigit()])\n",
    "        empty[i] = empty[i].split('!')\n",
    "    cleaned_empty = [i for i in empty if len(i) == 2]\n",
    "    array = np.array(cleaned_empty,dtype='object')\n",
    "    return pd.DataFrame(array, columns=['words','meaning'])"
   ]
  },
  {
   "cell_type": "code",
   "execution_count": 48,
   "id": "8a2b7f3a",
   "metadata": {},
   "outputs": [
    {
     "data": {
      "text/plain": [
       "(1243, 2)"
      ]
     },
     "execution_count": 48,
     "metadata": {},
     "output_type": "execute_result"
    }
   ],
   "source": [
    "alpha = ['b','c','d','e','f','d','h','i','j','k','l','m','n','o','p','q','r','s','t','u','v','w','x','y','z']\n",
    "df = letter_a\n",
    "for i in alpha:\n",
    "    url = 'https://www.ngex.com/personalities/babawilly/dictionary/pidgin'+i+'.html'\n",
    "    df = df.append(extract_pidgin(url),ignore_index=True)\n",
    "df.shape"
   ]
  },
  {
   "cell_type": "code",
   "execution_count": 51,
   "id": "ef04ffa4",
   "metadata": {},
   "outputs": [
    {
     "data": {
      "text/html": [
       "<div>\n",
       "<style scoped>\n",
       "    .dataframe tbody tr th:only-of-type {\n",
       "        vertical-align: middle;\n",
       "    }\n",
       "\n",
       "    .dataframe tbody tr th {\n",
       "        vertical-align: top;\n",
       "    }\n",
       "\n",
       "    .dataframe thead th {\n",
       "        text-align: right;\n",
       "    }\n",
       "</style>\n",
       "<table border=\"1\" class=\"dataframe\">\n",
       "  <thead>\n",
       "    <tr style=\"text-align: right;\">\n",
       "      <th></th>\n",
       "      <th>words</th>\n",
       "      <th>meaning</th>\n",
       "    </tr>\n",
       "  </thead>\n",
       "  <tbody>\n",
       "    <tr>\n",
       "      <th>0</th>\n",
       "      <td>Abeg</td>\n",
       "      <td>Please.</td>\n",
       "    </tr>\n",
       "    <tr>\n",
       "      <th>1</th>\n",
       "      <td>Abi?</td>\n",
       "      <td>Is it not?</td>\n",
       "    </tr>\n",
       "    <tr>\n",
       "      <th>2</th>\n",
       "      <td>ABU</td>\n",
       "      <td>Amadu Bello University.</td>\n",
       "    </tr>\n",
       "    <tr>\n",
       "      <th>3</th>\n",
       "      <td>Acada</td>\n",
       "      <td>. Intellectual . University student . Book worm.</td>\n",
       "    </tr>\n",
       "    <tr>\n",
       "      <th>4</th>\n",
       "      <td>Acata</td>\n",
       "      <td>. USA or UK .Someone who lives in those places.</td>\n",
       "    </tr>\n",
       "  </tbody>\n",
       "</table>\n",
       "</div>"
      ],
      "text/plain": [
       "   words                                           meaning\n",
       "0   Abeg                                           Please.\n",
       "1   Abi?                                        Is it not?\n",
       "2    ABU                           Amadu Bello University.\n",
       "3  Acada  . Intellectual . University student . Book worm.\n",
       "4  Acata   . USA or UK .Someone who lives in those places."
      ]
     },
     "execution_count": 51,
     "metadata": {},
     "output_type": "execute_result"
    }
   ],
   "source": [
    "df.head()"
   ]
  },
  {
   "cell_type": "code",
   "execution_count": 52,
   "id": "a4a302d1",
   "metadata": {},
   "outputs": [],
   "source": [
    "df.to_csv('pidgin_data.csv')"
   ]
  },
  {
   "cell_type": "code",
   "execution_count": 53,
   "id": "ebd7bc14",
   "metadata": {},
   "outputs": [],
   "source": [
    "df.to_csv(\"test.txt\", header=None, index=None, sep=' ', mode='w')"
   ]
  },
  {
   "cell_type": "code",
   "execution_count": 111,
   "id": "aa565ad5",
   "metadata": {},
   "outputs": [],
   "source": [
    "# creating a pdf file object\n",
    "file = open('nigerian_pidgin.pdf','rb')"
   ]
  },
  {
   "cell_type": "code",
   "execution_count": null,
   "id": "267a378a",
   "metadata": {},
   "outputs": [],
   "source": []
  },
  {
   "cell_type": "code",
   "execution_count": null,
   "id": "b51da09e",
   "metadata": {},
   "outputs": [],
   "source": []
  },
  {
   "cell_type": "code",
   "execution_count": 112,
   "id": "411a7e50",
   "metadata": {},
   "outputs": [
    {
     "name": "stderr",
     "output_type": "stream",
     "text": [
      "PdfReadWarning: Xref table not zero-indexed. ID numbers for objects will be corrected. [pdf.py:1884]\n"
     ]
    }
   ],
   "source": [
    "# creating a pdf reader object\n",
    "pdf_reader = PyPDF2.PdfFileReader(file)"
   ]
  },
  {
   "cell_type": "code",
   "execution_count": 113,
   "id": "c2dbd8ce",
   "metadata": {},
   "outputs": [
    {
     "name": "stdout",
     "output_type": "stream",
     "text": [
      "39\n"
     ]
    }
   ],
   "source": [
    "# printing the number of pages in the pdf file\n",
    "print(pdf_reader.numPages)"
   ]
  },
  {
   "cell_type": "code",
   "execution_count": 114,
   "id": "566f2fe4",
   "metadata": {},
   "outputs": [
    {
     "data": {
      "text/plain": [
       "\"Dictionary of Nigerian English Circulation Draft Roger Blench \\n2 \\nami(n)go \\nn. white man \\n Amigo! is shouted at foreigners in the \\nsoutheast of Nigeria  In Bonny in the form \\n\\namíngo\\n. Presumably connected with the Spanish \\npresence in Equatorial Guinea or former trade by \\nSpanish in the Bonny area. \\namong \\nadv. implies ‚among the group \\npreviously referred to™ \\nthey are among\\n \\nthey are among the group we are talking about\\n\\n \\n \\namount \\nn. usually short for ‚amount of \\nmoney™  but occasionally applied to other things \\n\\npreviously referred to \\nhe gave me some \\namount\\n he gave me so me money   \\n-an\\n suff. ending to indicate the inhabitant of \\na particular state \\nKwaran, Bayelsan\\n \\nand co.\\n n.p. refers to set of matching cloths \\nmade for families, age-grades, associations etc.\\n\\n \\nthey are sewing and co. for the wedding\\n \\nanini \\nn. now long-disused coin, originally \\none-tenth of a penny, but symbolising something \\n\\nof very low value like the English farthing \\n gained additional currency in the early \\n1990s due a notorious bank-robber [armed \\n\\nrobber] nicknamed Lawrence Anini \\nanswer\\n v. to respond to a call or command, \\nbut not a question, to be named\\n \\nhe answers \\nObi\\n he is called Obi GE \\nanyhow \\ns.t. placed at the end of a \\nsentence to suggest ‚indiscriminately™ \\nthe \\nchildren were playing in the garden, anyhow\\n GE \\nanyway \\np.u.t. Placed before a sentence to \\ntone down or mitigate the implications of a \\n\\nprevious statement or question   \\nApollo \\nn. eye-infection  So named \\nbecause it first appeared at the time of the Apollo \\n\\n11 moonshot \\napplicant \\nn. unemp loyed person who is \\nsupposed to be applying for jobs \\nhe is an \\napplicant\\n [unemployed school-leaver] \\narea-boy \\nn. young man without a job \\nwho engages in criminal acts, usually in gangs in \\n\\ntowns   \\narts \\nn. usually commercial painting \\nparticularly trucks and signs \\nart by Laranto Arts, \\nJos\\n commonly seen on back of trucks \\nart-work \\nn. work of art \\n \\ncan \\nbe pluralised, i.e. \\nart-works\\n \\naso-oke (1)\\n n. heavy type of cloth \\nThe \\ndesigners–spared no details with aso-oke\\n \\n[Ovation Issue 53:131, 2003] < Yoruba \\nas\\n\\x03!\\n\\no oke\\n \\naso-oke (2)\\n n. practice of a fa mily  all \\nwearing the same type fo cloth \\nHusband \\nand wife were wearing aso oke\\n < Yoruba \\nas\\n\\x03!\\n\\no oke\\n \\nAso rock \\np.n. inselberg adjoining \\nPresidential villa in Abuja, hence a symbol of \\npower and decision-making \\n \\n \\nassignment \\nn. homework, student essays, \\nprojects etc. \\nthey give us too many assignments\\n \\nalmost c ertainly  borrowed from Americ an \\nEnglish, perhaps in the \\nera when the Peace Corps \\ntaught in secondary schools in the 1960s \\nat all \\ns.t. Emphasises absence or negativity\\n \\npeople were not enjoying, at all\\n GE.  \\nAt all! \\nexcl. A common standalone response to a \\nnegative question or one expecting a negative \\nanswer.  \\nIs this man here? \\nresponse \\nAt all\\n! \\nattachment\\n n.   additional hair sewn on to \\nowner™s hair, less subtle than weavon \\n \\n \\nAugust break \\nn.p. dry spell in rainy season \\nfrom late July to August  SNE \\naunty \\nn. term of respect used by children \\n[y ounger person] to address adult women \\n\\n has become very common since 1980s) Sim. \\nuncle\\n \\nautomatically\\n adv. as a matter of course\\n \\nnow he is elected Governor, automatically \\nhe will chop money\\n \\nayo \\nn. mancala, board game  < \\nYoruba \\n \\n    \\n     \\n\\nB.     \\n \\n    \\nbaba \\nn. any old man older than speaker, \\nterm of respect also \\npapa\\n. widespread ter m \\nfor ‚father™ corresponding to \\nmama\\n for older \\nwoman \\nbacha \\nn. temporary shed or building \\n CE in Africa? [TE, also in Asia] \\nback\\n v. to carry a baby on the back \\nIn \\nAmerica they don't ba ck their babies as we do \\nhere\\n  \\nback\\n v. to turn one's back on \\nI just \\nbacked him and pretended not to see him\\n  \\nback, at my \\nadv.p. behind \\nHe was standing at \\nmy back\\n  \\nbad bush\\n n.   place where p eople who die \\nabnormal deaths are buried or thrown away \\n \\nSNE \\nbag \\nn. originally a fifty-kilo jute bag but \\nnow commonly used for hundred Naira \\na bag of \\nmoney = \\n100 pounds = 200 naira  [I \\ndoubt if this is the bag originally referred to!  I \\n\""
      ]
     },
     "execution_count": 114,
     "metadata": {},
     "output_type": "execute_result"
    }
   ],
   "source": [
    "# creating a page object\n",
    "page_object = pdf_reader.getPage(11)\n",
    "page_object.extractText()"
   ]
  },
  {
   "cell_type": "code",
   "execution_count": 26,
   "id": "412d03e5",
   "metadata": {},
   "outputs": [],
   "source": [
    "# closing the file \n",
    "file.close()"
   ]
  },
  {
   "cell_type": "code",
   "execution_count": null,
   "id": "60d13482",
   "metadata": {},
   "outputs": [],
   "source": []
  }
 ],
 "metadata": {
  "kernelspec": {
   "display_name": "Python 3 (ipykernel)",
   "language": "python",
   "name": "python3"
  },
  "language_info": {
   "codemirror_mode": {
    "name": "ipython",
    "version": 3
   },
   "file_extension": ".py",
   "mimetype": "text/x-python",
   "name": "python",
   "nbconvert_exporter": "python",
   "pygments_lexer": "ipython3",
   "version": "3.9.7"
  }
 },
 "nbformat": 4,
 "nbformat_minor": 5
}
